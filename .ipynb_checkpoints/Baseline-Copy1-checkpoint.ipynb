{
 "cells": [
  {
   "cell_type": "code",
   "execution_count": 2,
   "metadata": {},
   "outputs": [],
   "source": [
    "import pandas as pd # 데이터 전처리\n",
    "import numpy as np # 데이터 전처리\n",
    "import matplotlib.pyplot as plt # 데이터 시각화\n",
    "import itertools\n",
    "\n",
    "from datetime import datetime, timedelta # 시간 데이터 처리\n",
    "from statsmodels.tsa.arima_model import ARIMA # ARIMA 모델\n",
    "%matplotlib inline"
   ]
  },
  {
   "cell_type": "code",
   "execution_count": 44,
   "metadata": {},
   "outputs": [],
   "source": [
    "def fill_nan(df):\n",
    "    for col in df.columns[1:]:\n",
    "        start_dt = df.loc[df.loc[:, col].isnull() == False].index[0]\n",
    "        from_dt = start_dt\n",
    "        from_val = df.loc[start_dt, col]\n",
    "\n",
    "        for dt, val in df.loc[start_dt:, col].items():\n",
    "            if not pd.isna(val):\n",
    "                # processing\n",
    "                length = len(df.loc[from_dt: dt, col]) - 1\n",
    "                if length != 0:\n",
    "                    for i in df.loc[from_dt: dt, col].index:\n",
    "                        df.loc[i, col] = from_val / length\n",
    "\n",
    "                from_dt = dt\n",
    "                from_val = val\n",
    "    return df\n",
    "\n",
    "\n",
    "def to_panel_format(df):\n",
    "    place_id=[]; time=[] ; target=[] # 빈 리스트를 생성합니다.\n",
    "    \n",
    "    df['Time'] = pd.to_datetime(df['Time']) \n",
    "    df = df.set_index('Time')\n",
    "    \n",
    "    for i in df.columns:\n",
    "        for j in range(len(df)):\n",
    "            place_id.append(i) # place_id에 미터 ID를 정리합니다.\n",
    "            time.append(df.index[j]) # time에 시간대를 정리합니다.\n",
    "            target.append(df[i].iloc[j]) # target에 전력량을 정리합니다.\n",
    "\n",
    "    ret = pd.DataFrame({'place_id':place_id,'time':time,'target':target})\n",
    "    ret = ret.dropna() # 결측치를 제거합니다.\n",
    "    ret = ret.set_index('time') # time을 인덱스로 저장합니다.\n",
    "    return ret\n",
    "\n",
    "\n",
    "def get_optimal_params(y):\n",
    "    param_dict = {}\n",
    "    \n",
    "    for param in pdq:\n",
    "        try:\n",
    "            model = ARIMA(y, order=param)\n",
    "            results_ARIMA = model.fit(disp=-1)\n",
    "            param_dict[results_ARIMA.aic] = param\n",
    "        except:\n",
    "            continue\n",
    "\n",
    "    min_aic = min(param_dict.keys())\n",
    "    optimal_params = param_dict[min_aic]\n",
    "    return optimal_params\n",
    "\n",
    "def prediction(df):\n",
    "    p = d = q = range(0, 2)\n",
    "    pdq = list(itertools.product(p, d, q))\n",
    "\n",
    "    ret = {}\n",
    "    sub = pd.DataFrame() # a라는 데이터프레임에 예측값을 정리합니다.\n",
    "\n",
    "    for key in df['place_id'].unique(): # 미터ID 200개의 리스트를 unique()함수를 통해 추출합니다.\n",
    "        temp = df.loc[df['place_id']==key] # 미터ID 하나를 할당합니다.\n",
    "        temp_1h = temp.resample('1h').sum() # 1시간 단위로 정리합니다.\n",
    "        temp_1day = temp.resample('D').sum() # 1일 단위로 정리합니다.\n",
    "\n",
    "        # 시간별 예측\n",
    "        model = ARIMA(temp_1h['target'], order=get_optimal_params(temp_1h['target'])) # AIC를 최소화하는 최적의 파라미터로 모델링합니다.\n",
    "        results_ARIMA = model.fit(disp=-1)\n",
    "        fcst = results_ARIMA.forecast(24) # 24시간을 예측합니다.\n",
    "        for i in range(24):\n",
    "            sub['X2018_7_1_'+str(i+1)+'h'] = [fcst[0][i]] # column명을 submission 형태에 맞게 지정합니다.\n",
    "\n",
    "        # 일별 예측\n",
    "        model = ARIMA(temp_1day['target'], order=get_optimal_params(temp_1day['target'])) # AIC를 최소화하는 최적의 파라미터로 모델링합니다.\n",
    "        results_ARIMA = model.fit(disp=-1)\n",
    "        fcst = results_ARIMA.forecast(10) # 10일을 예측합니다.\n",
    "        for i in range(10):\n",
    "            sub['X2018_7_'+str(i+1)+'_d'] = [fcst[0][i]] # column명을 submission 형태에 맞게 지정합니다.\n",
    "\n",
    "        # 월별 예측\n",
    "        # 일별로 예측하여 7월 ~ 11월의 일 수에 맞게 나누어 합산합니다.\n",
    "        fcst = results_ARIMA.forecast(153)\n",
    "        sub['X2018_7_m'] = [np.sum(fcst[0][:31])] # 7월 \n",
    "        sub['X2018_8_m'] = [np.sum(fcst[0][31:62])] # 8월\n",
    "        sub['X2018_9_m'] = [np.sum(fcst[0][62:92])] # 9월\n",
    "        sub['X2018_10_m'] = [np.sum(fcst[0][92:123])] # 10월\n",
    "        sub['X2018_11_m'] = [np.sum(fcst[0][123:153])] # 11월\n",
    "        sub['meter_id'] = key \n",
    "        ret[key] = sub[submission.columns.tolist()]\n",
    "        print(key)\n",
    "        \n",
    "    print('---- Modeling Done ----')\n",
    "    return ret"
   ]
  },
  {
   "cell_type": "code",
   "execution_count": null,
   "metadata": {},
   "outputs": [],
   "source": []
  },
  {
   "cell_type": "code",
   "execution_count": 3,
   "metadata": {},
   "outputs": [
    {
     "name": "stderr",
     "output_type": "stream",
     "text": [
      "ERROR:fbprophet:Importing plotly failed. Interactive plots will not work.\n"
     ]
    },
    {
     "ename": "NameError",
     "evalue": "name 'df' is not defined",
     "output_type": "error",
     "traceback": [
      "\u001b[1;31m---------------------------------------------------------------------------\u001b[0m",
      "\u001b[1;31mNameError\u001b[0m                                 Traceback (most recent call last)",
      "\u001b[1;32m<ipython-input-3-3f69f923ffa6>\u001b[0m in \u001b[0;36m<module>\u001b[1;34m\u001b[0m\n\u001b[0;32m      2\u001b[0m \u001b[1;33m\u001b[0m\u001b[0m\n\u001b[0;32m      3\u001b[0m \u001b[0mm\u001b[0m \u001b[1;33m=\u001b[0m \u001b[0mProphet\u001b[0m\u001b[1;33m(\u001b[0m\u001b[1;33m)\u001b[0m\u001b[1;33m\u001b[0m\u001b[1;33m\u001b[0m\u001b[0m\n\u001b[1;32m----> 4\u001b[1;33m \u001b[0mm\u001b[0m\u001b[1;33m.\u001b[0m\u001b[0mfit\u001b[0m\u001b[1;33m(\u001b[0m\u001b[0mdf\u001b[0m\u001b[1;33m)\u001b[0m\u001b[1;33m\u001b[0m\u001b[1;33m\u001b[0m\u001b[0m\n\u001b[0m",
      "\u001b[1;31mNameError\u001b[0m: name 'df' is not defined"
     ]
    }
   ],
   "source": [
    "from fbprophet import Prophet\n",
    "\n",
    "m = Prophet()\n",
    "m.fit(df)"
   ]
  },
  {
   "cell_type": "code",
   "execution_count": 37,
   "metadata": {},
   "outputs": [],
   "source": [
    "train = pd.read_csv(\"train.csv\")\n",
    "test = pd.read_csv(\"test.csv\")\n",
    "submission = pd.read_csv(\"submission_1002.csv\")"
   ]
  },
  {
   "cell_type": "code",
   "execution_count": null,
   "metadata": {
    "collapsed": true,
    "jupyter": {
     "outputs_hidden": true
    }
   },
   "outputs": [
    {
     "name": "stdout",
     "output_type": "stream",
     "text": [
      "2.527\n",
      "0.531\n",
      "0.098\n",
      "0.228\n",
      "0.4320000000000001\n",
      "0.232\n",
      "0.348\n",
      "0.259\n",
      "0.194\n",
      "0.086\n",
      "0.191\n",
      "0.226\n",
      "0.223\n",
      "0.236\n",
      "0.375\n"
     ]
    }
   ],
   "source": [
    "fill_nan(test)"
   ]
  },
  {
   "cell_type": "code",
   "execution_count": 29,
   "metadata": {},
   "outputs": [],
   "source": [
    "test = to_panel_format(test) # 데이터 형식 변겅"
   ]
  },
  {
   "cell_type": "code",
   "execution_count": 9,
   "metadata": {},
   "outputs": [],
   "source": [
    "agg = prediction(test) # 예측"
   ]
  },
  {
   "cell_type": "code",
   "execution_count": null,
   "metadata": {},
   "outputs": [],
   "source": [
    "output1 = pd.concat(agg, ignore_index=False)\n",
    "output2 = output1.reset_index().drop(['level_0','level_1'], axis=1)\n",
    "output2['id'] = output2['meter_id'].str.replace('X','').astype(int)\n",
    "output2 =  output2.sort_values(by='id', ascending=True).drop(['id'], axis=1).reset_index(drop=True)\n",
    "output2.to_csv('sub_baseline.csv', index=False)"
   ]
  }
 ],
 "metadata": {
  "kernelspec": {
   "display_name": "Python 3",
   "language": "python",
   "name": "python3"
  },
  "language_info": {
   "codemirror_mode": {
    "name": "ipython",
    "version": 3
   },
   "file_extension": ".py",
   "mimetype": "text/x-python",
   "name": "python",
   "nbconvert_exporter": "python",
   "pygments_lexer": "ipython3",
   "version": "3.7.1"
  }
 },
 "nbformat": 4,
 "nbformat_minor": 4
}
